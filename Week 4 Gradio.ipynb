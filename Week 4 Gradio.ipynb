{
 "cells": [
  {
   "cell_type": "markdown",
   "id": "862f92fd-16ae-4c17-8c8e-a4f3d559728a",
   "metadata": {},
   "source": [
    "## Gradio Example\n",
    "To use Gradio in Jupyterlab make sure to install **ipywidgets**"
   ]
  },
  {
   "cell_type": "markdown",
   "id": "bf87ed95-e08a-4d74-a7b8-307d14764b16",
   "metadata": {},
   "source": [
    "Gradio quick start: https://www.gradio.app/guides/quickstart"
   ]
  },
  {
   "cell_type": "code",
   "execution_count": null,
   "id": "8b9e557e-ab4c-4160-9158-04780943c899",
   "metadata": {
    "tags": []
   },
   "outputs": [],
   "source": [
    "#!pip3 install ipywidgets gradio"
   ]
  },
  {
   "cell_type": "code",
   "execution_count": 1,
   "id": "7c6a4d90-3b40-48d0-aa57-f85a6a139f00",
   "metadata": {
    "tags": []
   },
   "outputs": [
    {
     "name": "stderr",
     "output_type": "stream",
     "text": [
      "[nltk_data] Downloading package punkt_tab to C:\\Users\\Khor Kean\n",
      "[nltk_data]     Teng\\AppData\\Roaming\\nltk_data...\n",
      "[nltk_data]   Package punkt_tab is already up-to-date!\n"
     ]
    },
    {
     "name": "stdout",
     "output_type": "stream",
     "text": [
      "* Running on local URL:  http://127.0.0.1:7860\n",
      "\n",
      "To create a public link, set `share=True` in `launch()`.\n"
     ]
    },
    {
     "data": {
      "text/html": [
       "<div><iframe src=\"http://127.0.0.1:7860/\" width=\"100%\" height=\"500\" allow=\"autoplay; camera; microphone; clipboard-read; clipboard-write;\" frameborder=\"0\" allowfullscreen></iframe></div>"
      ],
      "text/plain": [
       "<IPython.core.display.HTML object>"
      ]
     },
     "metadata": {},
     "output_type": "display_data"
    },
    {
     "data": {
      "text/plain": []
     },
     "execution_count": 1,
     "metadata": {},
     "output_type": "execute_result"
    }
   ],
   "source": [
    "import gradio as gr\n",
    "import nltk\n",
    "from nltk.tokenize import word_tokenize\n",
    "\n",
    "nltk.download('punkt_tab') #model for sentence tokenizer\n",
    "\n",
    "def nltk_tokenizer(text):\n",
    "    tokens = word_tokenize(text)\n",
    "    return '\\n'.join(tokens)\n",
    "\n",
    "# Example input sentences\n",
    "examples = [\n",
    "    [\"Hello! How are you doing today?\"],\n",
    "    [\"NLP is fun, isn't it?\"],\n",
    "    [\"Dr. Smith went to Washington D.C. on Jan 5, 2024.\"],\n",
    "    [\"I can't believe it's already April!\"],\n",
    "    [\"The chicken is ready to eat.\"]\n",
    "]\n",
    "\n",
    "# Gradio Interface\n",
    "gr.Interface(\n",
    "    fn=nltk_tokenizer,\n",
    "    inputs=gr.Textbox(lines=3, placeholder=\"Enter some text here...\"),\n",
    "    outputs=gr.Textbox(label=\"Tokens\", lines=3, interactive=False),\n",
    "    title=\"NLTK Tokenizer\",\n",
    "    description=\"Tokenizes input text using NLTK's word_tokenize.\",\n",
    "    examples=examples\n",
    ").launch()\n"
   ]
  }
 ],
 "metadata": {
  "kernelspec": {
   "display_name": "Python 3",
   "language": "python",
   "name": "python3"
  },
  "language_info": {
   "codemirror_mode": {
    "name": "ipython",
    "version": 3
   },
   "file_extension": ".py",
   "mimetype": "text/x-python",
   "name": "python",
   "nbconvert_exporter": "python",
   "pygments_lexer": "ipython3",
   "version": "3.12.7"
  }
 },
 "nbformat": 4,
 "nbformat_minor": 5
}
