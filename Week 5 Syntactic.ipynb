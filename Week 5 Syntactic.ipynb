{
 "cells": [
  {
   "cell_type": "markdown",
   "id": "ea531874-7cb9-4629-a1d3-9607df028568",
   "metadata": {},
   "source": [
    "<h1 style=\"text-align: center;\">Syntactic Analysis - Tutorial</h1> "
   ]
  },
  {
   "cell_type": "markdown",
   "id": "b71d34a3-c21d-44ce-9894-df70c2e922ec",
   "metadata": {},
   "source": [
    "**CFGs** are Simple rules that can build, analyze, and understand sentence structures.\n",
    "**CFGs** are used for:\n",
    "* Syntax checkers (compilers: C++, Python)\n",
    "* Code parsers to analyse the syntactic structure of source code.\n",
    "* Chatbots and Grammar-based NLP\n",
    "* Auto-correct and Grammar checkers"
   ]
  },
  {
   "cell_type": "markdown",
   "id": "d5e2d984-23c8-43c2-8f49-19d2f9bcd488",
   "metadata": {},
   "source": [
    "## Parsing with CFG"
   ]
  },
  {
   "cell_type": "code",
   "execution_count": 1,
   "id": "8d4fa01a-7d96-40d1-9c2a-0a158374dd3f",
   "metadata": {},
   "outputs": [
    {
     "name": "stdout",
     "output_type": "stream",
     "text": [
      "               S                \n",
      "      _________|_____            \n",
      "     |               VP         \n",
      "     |          _____|___        \n",
      "     NP        |         NP     \n",
      "  ___|___      |      ___|___    \n",
      "Det     Noun  Verb  Det     Noun\n",
      " |       |     |     |       |   \n",
      "the     dog  chased the     cat \n",
      "\n"
     ]
    }
   ],
   "source": [
    "import nltk\n",
    "from nltk import CFG\n",
    "import string\n",
    "\n",
    "# Expanded grammar\n",
    "grammar = CFG.fromstring(\"\"\"\n",
    "  S -> NP VP\n",
    "  NP -> Pronoun | Det Noun | NP PP\n",
    "  VP -> Verb NP | VP PP\n",
    "  PP -> Prep NP\n",
    "\n",
    "  Pronoun -> 'i'\n",
    "  Det -> 'the' | 'a'\n",
    "  Noun -> 'cat' | 'dog' | 'man' | 'telescope'\n",
    "  Verb -> 'chased' | 'found' | 'had' | 'saw'\n",
    "  Prep -> 'with'\n",
    "\"\"\")\n",
    "\n",
    "parser = nltk.ChartParser(grammar)\n",
    "\n",
    "def preprocess(sentence):\n",
    "    sentence = sentence.lower()\n",
    "    sentence = ''.join(c for c in sentence if c not in string.punctuation) # Remove punctuation\n",
    "    return sentence.split() # Split into tokens\n",
    "    \n",
    "\n",
    "sentence = \"The dog chased the cat.\"\n",
    "# sentence = \"I saw the man with the telescope.\"\n",
    "\n",
    "tokens = preprocess(sentence)\n",
    "\n",
    "# Parse and print all possible trees\n",
    "for tree in parser.parse(tokens):\n",
    "    tree.pretty_print()\n",
    "    \n"
   ]
  },
  {
   "cell_type": "markdown",
   "id": "c805c80a-8381-467a-834d-67e36a962401",
   "metadata": {},
   "source": [
    "## Multiple nestings of prepositions"
   ]
  },
  {
   "cell_type": "markdown",
   "id": "104cda77-a2a4-4eb8-b669-56a66fbf5b12",
   "metadata": {},
   "source": [
    "* An example of a noun phrase NP sentence with multiple preposition nestings.\n",
    "* What happens if we use S -> VP NP only?"
   ]
  },
  {
   "cell_type": "code",
   "execution_count": 2,
   "id": "3d92b694-2975-4b68-9a0e-4060545aa2b0",
   "metadata": {},
   "outputs": [
    {
     "name": "stdout",
     "output_type": "stream",
     "text": [
      "                                 S                                 \n",
      "                                 |                                  \n",
      "                                 NP                                \n",
      "                    _____________|______________________            \n",
      "                   NP                                   |          \n",
      "               ____|__________________                  |           \n",
      "              NP                      |                 |          \n",
      "      ________|____                   |                 |           \n",
      "     |             PP                 PP                PP         \n",
      "     |         ____|___           ____|___          ____|___        \n",
      "     NP       |        NP        |        NP       |        NP     \n",
      "  ___|___     |     ___|____     |     ___|___     |     ___|___    \n",
      "Det     Noun Prep Det      Noun Prep Det     Noun Prep Det     Noun\n",
      " |       |    |    |        |    |    |       |    |    |       |   \n",
      "the     key   on  the     shelf  by  the     door with the     lock\n",
      "\n"
     ]
    }
   ],
   "source": [
    "import nltk\n",
    "from nltk import CFG\n",
    "\n",
    "# Define a recursive grammar\n",
    "grammar = CFG.fromstring(\"\"\"\n",
    "  S -> VP NP | NP\n",
    "  NP -> Det Noun | NP PP\n",
    "  VP -> Verb NP\n",
    "  PP -> Prep NP\n",
    "\n",
    "  Det -> 'the'\n",
    "  Noun -> 'key' | 'shelf' | 'door' | 'lock'\n",
    "  Verb -> 'found'\n",
    "  Prep -> 'on' | 'by' | 'with'\n",
    "\"\"\")\n",
    "\n",
    "# Create a parser\n",
    "parser = nltk.ChartParser(grammar)\n",
    "\n",
    "# Sentence with multiple preposition nestings\n",
    "sentence = \"the key on the shelf by the door with the lock\".split() # No Verb!\n",
    "\n",
    "# Parse and show only the first tree\n",
    "trees = list(parser.parse(sentence))\n",
    "\n",
    "if trees:\n",
    "    tree = trees[0]\n",
    "    tree.pretty_print()\n",
    "else:\n",
    "    print(\"No parse tree found.\")\n"
   ]
  },
  {
   "cell_type": "markdown",
   "id": "6d44898a-6201-4cba-92b6-16577998d418",
   "metadata": {},
   "source": [
    "## CFG Mini Grammar for Commands"
   ]
  },
  {
   "cell_type": "markdown",
   "id": "49d2bd07-1584-4b72-922f-79fff6ed6891",
   "metadata": {},
   "source": [
    "The assistant (e.g., **smart home assistant**) needs to parse the command to know:\n",
    "\n",
    "* Action (Verb): what to do (open, close, start)\n",
    "* Target (Noun): which device or thing to control (door, window, app)"
   ]
  },
  {
   "cell_type": "code",
   "execution_count": 3,
   "id": "9ea33908-796b-4650-b4b2-eca13f5be6a9",
   "metadata": {},
   "outputs": [
    {
     "name": "stdout",
     "output_type": "stream",
     "text": [
      "      S          \n",
      "      |           \n",
      "      VP         \n",
      "  ____|___        \n",
      " |        NP     \n",
      " |     ___|___    \n",
      "Verb Det     Noun\n",
      " |    |       |   \n",
      "open the     door\n",
      "\n"
     ]
    }
   ],
   "source": [
    "import nltk\n",
    "from nltk import CFG\n",
    "\n",
    "# Define the correct grammar\n",
    "command_grammar = CFG.fromstring(\"\"\"\n",
    "  S -> VP\n",
    "  VP -> Verb NP\n",
    "  Verb -> 'open' | 'close' | 'start' | 'turn_on' | 'turn_off'\n",
    "  NP -> Det Noun\n",
    "  Det -> 'the'\n",
    "  Noun -> 'door' | 'window' | 'app' | 'security_lock'\n",
    "\"\"\")\n",
    "\n",
    "# Create a parser\n",
    "parser = nltk.ChartParser(command_grammar)\n",
    "\n",
    "# Input command\n",
    "commands = 'open the door'.split()\n",
    "# commands = \"turn_on the security_lock\".split()\n",
    "\n",
    "# Parse and print trees\n",
    "for tree in parser.parse(commands):\n",
    "    tree.pretty_print()\n",
    "    "
   ]
  },
  {
   "cell_type": "code",
   "execution_count": 4,
   "id": "6b6f456d-a999-4a18-99c7-2dab09ec4f7e",
   "metadata": {},
   "outputs": [
    {
     "name": "stdout",
     "output_type": "stream",
     "text": [
      "Action: open, Target: door\n"
     ]
    }
   ],
   "source": [
    "verb = None\n",
    "noun = None\n",
    "\n",
    "for subtree in tree.subtrees():\n",
    "    if subtree.label() == 'Verb':\n",
    "        verb = ' '.join(subtree.leaves())\n",
    "    if subtree.label() == 'Noun':\n",
    "        noun = ' '.join(subtree.leaves())\n",
    "\n",
    "print(f\"Action: {verb}, Target: {noun}\")"
   ]
  }
 ],
 "metadata": {
  "kernelspec": {
   "display_name": "Python 3",
   "language": "python",
   "name": "python3"
  },
  "language_info": {
   "codemirror_mode": {
    "name": "ipython",
    "version": 3
   },
   "file_extension": ".py",
   "mimetype": "text/x-python",
   "name": "python",
   "nbconvert_exporter": "python",
   "pygments_lexer": "ipython3",
   "version": "3.12.7"
  }
 },
 "nbformat": 4,
 "nbformat_minor": 5
}
