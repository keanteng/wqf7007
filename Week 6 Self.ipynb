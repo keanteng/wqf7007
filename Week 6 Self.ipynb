{
 "cells": [
  {
   "cell_type": "markdown",
   "id": "73475f80",
   "metadata": {},
   "source": [
    "# Top-Down Parsing in Natural Language Processing\n",
    "\n",
    "This notebook demonstrates the usage of top-down parsing, a fundamental concept in syntactic analysis."
   ]
  },
  {
   "cell_type": "markdown",
   "id": "cf05a467",
   "metadata": {},
   "source": [
    "## Import Required Libraries\n",
    "\n",
    "Import necessary libraries such as NLTK for natural language processing."
   ]
  },
  {
   "cell_type": "code",
   "execution_count": 1,
   "id": "40e048fd",
   "metadata": {},
   "outputs": [],
   "source": [
    "# Import Required Libraries\n",
    "import nltk\n",
    "from nltk import CFG\n",
    "from nltk.parse import RecursiveDescentParser"
   ]
  },
  {
   "cell_type": "markdown",
   "id": "7423a259",
   "metadata": {},
   "source": [
    "## Define Grammar Rules\n",
    "\n",
    "Define a context-free grammar (CFG) using NLTK's CFG module."
   ]
  },
  {
   "cell_type": "code",
   "execution_count": 2,
   "id": "3244941f",
   "metadata": {},
   "outputs": [
    {
     "name": "stdout",
     "output_type": "stream",
     "text": [
      "Grammar with 16 productions (start state = S)\n",
      "    S -> NP VP\n",
      "    NP -> Det N\n",
      "    NP -> Det N PP\n",
      "    VP -> V NP\n",
      "    VP -> VP PP\n",
      "    PP -> P NP\n",
      "    Det -> 'the'\n",
      "    Det -> 'a'\n",
      "    N -> 'cat'\n",
      "    N -> 'dog'\n",
      "    N -> 'park'\n",
      "    N -> 'telescope'\n",
      "    V -> 'saw'\n",
      "    V -> 'walked'\n",
      "    P -> 'in'\n",
      "    P -> 'with'\n"
     ]
    }
   ],
   "source": [
    "# Define Grammar Rules\n",
    "grammar = CFG.fromstring(\"\"\"\n",
    "    S -> NP VP\n",
    "    NP -> Det N | Det N PP\n",
    "    VP -> V NP | VP PP\n",
    "    PP -> P NP\n",
    "    Det -> 'the' | 'a'\n",
    "    N -> 'cat' | 'dog' | 'park' | 'telescope'\n",
    "    V -> 'saw' | 'walked'\n",
    "    P -> 'in' | 'with'\n",
    "\"\"\")\n",
    "print(grammar)"
   ]
  },
  {
   "cell_type": "markdown",
   "id": "1b29fcc2",
   "metadata": {},
   "source": [
    "## Implement Top-Down Parsing Algorithm\n",
    "\n",
    "Use NLTK's RecursiveDescentParser to implement top-down parsing based on the defined grammar."
   ]
  },
  {
   "cell_type": "code",
   "execution_count": 3,
   "id": "d4c5ebb1",
   "metadata": {},
   "outputs": [],
   "source": [
    "# Implement Top-Down Parsing Algorithm\n",
    "parser = RecursiveDescentParser(grammar)"
   ]
  },
  {
   "cell_type": "markdown",
   "id": "3415bbf2",
   "metadata": {},
   "source": [
    "## Test Top-Down Parsing with Example Sentences\n",
    "\n",
    "Provide example sentences and demonstrate how the top-down parser generates parse trees for them."
   ]
  },
  {
   "cell_type": "code",
   "execution_count": 5,
   "id": "7d4629ce",
   "metadata": {},
   "outputs": [
    {
     "name": "stdout",
     "output_type": "stream",
     "text": [
      "Parsing sentence: 'the cat saw a dog'\n",
      "(S (NP (Det the) (N cat)) (VP (V saw) (NP (Det a) (N dog))))\n",
      "             S             \n",
      "      _______|___           \n",
      "     |           VP        \n",
      "     |        ___|___       \n",
      "     NP      |       NP    \n",
      "  ___|___    |    ___|___   \n",
      "Det      N   V  Det      N \n",
      " |       |   |   |       |  \n",
      "the     cat saw  a      dog\n",
      "\n",
      "Parsing sentence: 'a dog walked in the park'\n",
      "Parsing sentence: 'the cat saw a dog with a telescope'\n",
      "(S\n",
      "  (NP (Det the) (N cat))\n",
      "  (VP\n",
      "    (VP (V saw) (NP (Det a) (N dog)))\n",
      "    (PP (P with) (NP (Det a) (N telescope)))))\n",
      "                 S                                \n",
      "      ___________|_______                          \n",
      "     |                   VP                       \n",
      "     |            _______|________                 \n",
      "     |           VP               PP              \n",
      "     |        ___|___         ____|___             \n",
      "     NP      |       NP      |        NP          \n",
      "  ___|___    |    ___|___    |     ___|______      \n",
      "Det      N   V  Det      N   P   Det         N    \n",
      " |       |   |   |       |   |    |          |     \n",
      "the     cat saw  a      dog with  a      telescope\n",
      "\n",
      "(S\n",
      "  (NP (Det the) (N cat))\n",
      "  (VP\n",
      "    (V saw)\n",
      "    (NP (Det a) (N dog) (PP (P with) (NP (Det a) (N telescope))))))\n",
      "                 S                            \n",
      "      ___________|___                          \n",
      "     |               VP                       \n",
      "     |        _______|___                      \n",
      "     |       |           NP                   \n",
      "     |       |    _______|____                 \n",
      "     |       |   |   |        PP              \n",
      "     |       |   |   |    ____|___             \n",
      "     NP      |   |   |   |        NP          \n",
      "  ___|___    |   |   |   |     ___|______      \n",
      "Det      N   V  Det  N   P   Det         N    \n",
      " |       |   |   |   |   |    |          |     \n",
      "the     cat saw  a  dog with  a      telescope\n",
      "\n"
     ]
    }
   ],
   "source": [
    "# Replace RecursiveDescentParser with ChartParser\n",
    "from nltk.parse import ChartParser\n",
    "\n",
    "# Implement Top-Down Parsing Algorithm using ChartParser\n",
    "parser = ChartParser(grammar)\n",
    "\n",
    "# Test Top-Down Parsing with Example Sentences\n",
    "sentences = [\n",
    "    \"the cat saw a dog\",\n",
    "    \"a dog walked in the park\",\n",
    "    \"the cat saw a dog with a telescope\"\n",
    "]\n",
    "\n",
    "for sentence in sentences:\n",
    "    print(f\"Parsing sentence: '{sentence}'\")\n",
    "    tokens = sentence.split()\n",
    "    for tree in parser.parse(tokens):\n",
    "        print(tree)\n",
    "        tree.pretty_print()"
   ]
  }
 ],
 "metadata": {
  "kernelspec": {
   "display_name": "Python 3",
   "language": "python",
   "name": "python3"
  },
  "language_info": {
   "codemirror_mode": {
    "name": "ipython",
    "version": 3
   },
   "file_extension": ".py",
   "mimetype": "text/x-python",
   "name": "python",
   "nbconvert_exporter": "python",
   "pygments_lexer": "ipython3",
   "version": "3.12.7"
  }
 },
 "nbformat": 4,
 "nbformat_minor": 5
}
