{
 "cells": [
  {
   "cell_type": "markdown",
   "id": "cb7c14d4-e3c0-40b7-a163-8e4f7112c3e9",
   "metadata": {
    "tags": []
   },
   "source": [
    "<h1 style=\"text-align: center;\">Part-of-Speech (POS) & Vectorization - Tutorial</h1> "
   ]
  },
  {
   "cell_type": "markdown",
   "id": "dfce3151-6217-4dcf-9e95-5c4acb9d0a0b",
   "metadata": {},
   "source": [
    "**Part-of-Speech (POS) tagging** typically comes **after tokenization** and **before syntactic parsing**. Here's the standard order in the text processing pipeline:\n",
    "\n",
    "1. **Text Cleaning**  \n",
    "   – Remove special characters, HTML tags, newlines, etc.\n",
    "\n",
    "2. **Tokenization**  \n",
    "   – Split text into sentences and then into words/tokens.\n",
    "\n",
    "3. **Normalization**  \n",
    "   – Lowercasing, removing stopwords, stemming/lemmatization.\n",
    "\n",
    "4. <strong style=\"color: #2a9d8f;\">Part-of-Speech Tagging</strong>   \n",
    "   – Assign grammatical tags to each token (e.g., noun, verb, adjective).\n",
    "\n",
    "5. **Syntactic Parsing**  \n",
    "   * Build parse trees or dependency graphs using the POS tags.\n",
    "   * POS tags are crucial **inputs** for syntactic parsers.\n",
    "   * POS tags help disambiguate sentence structure (e.g., distinguishing between noun and verb uses of the same word).\n"
   ]
  },
  {
   "cell_type": "markdown",
   "id": "fd524851-21a0-4141-bf1c-5e6cbacf3230",
   "metadata": {},
   "source": [
    "## POS Tagging with NLTK"
   ]
  },
  {
   "cell_type": "code",
   "execution_count": 1,
   "id": "13758ccf-4fef-4a82-975f-6bd39cfc245a",
   "metadata": {
    "tags": []
   },
   "outputs": [
    {
     "name": "stderr",
     "output_type": "stream",
     "text": [
      "[nltk_data] Downloading package punkt_tab to C:\\Users\\Khor Kean\n",
      "[nltk_data]     Teng\\AppData\\Roaming\\nltk_data...\n",
      "[nltk_data]   Package punkt_tab is already up-to-date!\n",
      "[nltk_data] Downloading package averaged_perceptron_tagger_eng to\n",
      "[nltk_data]     C:\\Users\\Khor Kean Teng\\AppData\\Roaming\\nltk_data...\n",
      "[nltk_data]   Unzipping taggers\\averaged_perceptron_tagger_eng.zip.\n"
     ]
    },
    {
     "name": "stdout",
     "output_type": "stream",
     "text": [
      "NLTK POS Tags:\n",
      "The: DT\n",
      "quick: JJ\n",
      "brown: NN\n",
      "fox: NN\n",
      "jumps: VBZ\n",
      "over: IN\n",
      "the: DT\n",
      "lazy: JJ\n",
      "dog: NN\n",
      ".: .\n"
     ]
    }
   ],
   "source": [
    "import nltk\n",
    "\n",
    "# Download necessary resources\n",
    "nltk.download('punkt_tab')\n",
    "nltk.download('averaged_perceptron_tagger_eng')\n",
    "\n",
    "# Sample text\n",
    "text = \"The quick brown fox jumps over the lazy dog.\"\n",
    "\n",
    "# Tokenize\n",
    "tokens = nltk.word_tokenize(text)\n",
    "\n",
    "# POS tagging\n",
    "pos_tags = nltk.pos_tag(tokens)\n",
    "\n",
    "print(\"NLTK POS Tags:\")\n",
    "for word, tag in pos_tags:\n",
    "    print(f\"{word}: {tag}\")\n"
   ]
  },
  {
   "cell_type": "markdown",
   "id": "9d7f5e0b-ebf9-43c0-b1ce-9932f57701ce",
   "metadata": {},
   "source": [
    "* Model Used: By default, nltk.pos_tag() uses the **Averaged Perceptron Tagger** (a type of linear classifier) trained on the Penn Treebank.\n",
    "* Penn Treebank Tags: https://www.ling.upenn.edu/courses/Fall_2003/ling001/penn_treebank_pos.html\n"
   ]
  },
  {
   "cell_type": "markdown",
   "id": "d01eb00f-4fe8-40b8-a203-a94f97f2b7a1",
   "metadata": {},
   "source": [
    "## POS Tagging with spaCy"
   ]
  },
  {
   "cell_type": "code",
   "execution_count": null,
   "id": "3f69f491-1f2c-4e8a-ad26-d80d5ed7c803",
   "metadata": {},
   "outputs": [],
   "source": [
    "#!python3 -m spacy download en_core_web_md"
   ]
  },
  {
   "cell_type": "code",
   "execution_count": 2,
   "id": "fc67f4a7-3499-46d3-93b8-0126bdeb4e7b",
   "metadata": {
    "tags": []
   },
   "outputs": [
    {
     "name": "stdout",
     "output_type": "stream",
     "text": [
      "spaCy POS Tags:\n",
      "The: DET (DT)\n",
      "quick: ADJ (JJ)\n",
      "brown: ADJ (JJ)\n",
      "fox: NOUN (NN)\n",
      "jumps: VERB (VBZ)\n",
      "over: ADP (IN)\n",
      "the: DET (DT)\n",
      "lazy: ADJ (JJ)\n",
      "dog: NOUN (NN)\n",
      ".: PUNCT (.)\n"
     ]
    }
   ],
   "source": [
    "import spacy\n",
    "\n",
    "# Load English model\n",
    "nlp = spacy.load(\"en_core_web_md\")\n",
    "\n",
    "# Sample text\n",
    "text = \"The quick brown fox jumps over the lazy dog.\"\n",
    "\n",
    "# Process the text\n",
    "doc = nlp(text)\n",
    "\n",
    "print(\"spaCy POS Tags:\")\n",
    "for token in doc:\n",
    "    print(f\"{token.text}: {token.pos_} ({token.tag_})\")\n"
   ]
  },
  {
   "cell_type": "markdown",
   "id": "09cc336f-c05c-4948-892a-798ff816779b",
   "metadata": {},
   "source": [
    "* Model Used: **Neural network-based statistical model**\n",
    "* **token.pos_** → Universal POS tags (from Universal Dependencies). Examples: NOUN, VERB, ADJ, ADV\n",
    "* **token.tag_** → Fine-grained POS tags (from Penn Treebank / OntoNotes). Examples: NN, VBZ, JJ, RB"
   ]
  },
  {
   "cell_type": "markdown",
   "id": "55a0d022-31d2-4209-a21f-03a89759a34a",
   "metadata": {},
   "source": [
    "## Fine-Grained Tags and Explanations in spaCy"
   ]
  },
  {
   "cell_type": "code",
   "execution_count": 3,
   "id": "90ebe008-f100-4a58-87aa-d7b4ac857b63",
   "metadata": {},
   "outputs": [
    {
     "name": "stdout",
     "output_type": "stream",
     "text": [
      "Fine-Grained POS Tags and Explanations:\n",
      "Alice      NNP    noun, proper singular\n",
      "is         VBZ    verb, 3rd person singular present\n",
      "reading    VBG    verb, gerund or present participle\n",
      "a          DT     determiner\n",
      "book       NN     noun, singular or mass\n",
      "in         IN     conjunction, subordinating or preposition\n",
      "the        DT     determiner\n",
      "quiet      JJ     adjective (English), other noun-modifier (Chinese)\n",
      "library    NN     noun, singular or mass\n",
      ".          .      punctuation mark, sentence closer\n"
     ]
    }
   ],
   "source": [
    "import spacy\n",
    "from spacy import explain\n",
    "\n",
    "# Load a spaCy model\n",
    "nlp = spacy.load(\"en_core_web_md\")\n",
    "\n",
    "text = \"Alice is reading a book in the quiet library.\"\n",
    "doc = nlp(text)\n",
    "\n",
    "# Display fine-grained POS tags and explanations\n",
    "print(\"Fine-Grained POS Tags and Explanations:\")\n",
    "for token in doc:\n",
    "    print(f\"{token.text:<10} {token.tag_:<6} {explain(token.tag_)}\")"
   ]
  },
  {
   "cell_type": "markdown",
   "id": "df8a35fa-1f8b-4d8e-b3e1-8a74aabb31e6",
   "metadata": {},
   "source": [
    "## Filter Words by POS (e.g., Nouns only)"
   ]
  },
  {
   "cell_type": "code",
   "execution_count": 4,
   "id": "dbc879ac-0efc-4ae7-9f75-8b49b9e69800",
   "metadata": {},
   "outputs": [
    {
     "name": "stdout",
     "output_type": "stream",
     "text": [
      "Nouns in the sentence: ['book', 'library']\n"
     ]
    }
   ],
   "source": [
    "nouns = [token.text for token in doc if token.pos_ == \"NOUN\"]\n",
    "print(\"Nouns in the sentence:\", nouns)\n"
   ]
  },
  {
   "cell_type": "markdown",
   "id": "3176d43a-925d-455e-9025-fd26b68f3c3e",
   "metadata": {},
   "source": [
    "## Word Embedding in spaCy"
   ]
  },
  {
   "cell_type": "code",
   "execution_count": 16,
   "id": "74e0ca30-2fa2-40c9-b861-9360d88d12cd",
   "metadata": {},
   "outputs": [
    {
     "name": "stdout",
     "output_type": "stream",
     "text": [
      "Vector shape: (300,)\n",
      "Sample from the embedding vector: [-0.60644   -0.51205    0.0064921 -0.29194   -0.56515   -0.11523\n",
      "  0.077274   0.33561    0.11593    2.3516   ]\n"
     ]
    }
   ],
   "source": [
    "import spacy\n",
    "\n",
    "nlp = spacy.load(\"en_core_web_md\") # pretrained word vectors included in en_core_web_md and en_core_web_lg\n",
    "\n",
    "# Process a single word\n",
    "word1 = nlp(\"king\")\n",
    "word2 = nlp(\"kings\")\n",
    "word3 = nlp(\"apple\")\n",
    "\n",
    "# Extract vector\n",
    "vector = word1.vector\n",
    "\n",
    "# Display vector shape and a sample\n",
    "print(f\"Vector shape: {vector.shape}\")\n",
    "print(\"Sample from the embedding vector:\", vector[:10])  # First 10 values\n"
   ]
  },
  {
   "cell_type": "code",
   "execution_count": 17,
   "id": "78424264-a0be-49c8-9651-b0fc800682ff",
   "metadata": {},
   "outputs": [
    {
     "name": "stdout",
     "output_type": "stream",
     "text": [
      "Similarity (king vs queen): 0.4466\n",
      "Similarity (king vs apple): 0.2111\n"
     ]
    }
   ],
   "source": [
    "# spaCy similarity is cosine similarity\n",
    "print(f\"Similarity (king vs queen): {word1.similarity(word2):.4f}\")\n",
    "print(f\"Similarity (king vs apple): {word1.similarity(word3):.4f}\")"
   ]
  },
  {
   "cell_type": "code",
   "execution_count": 7,
   "id": "99f193dd-cd2f-47b9-9eed-77f6c5dc6beb",
   "metadata": {},
   "outputs": [
    {
     "name": "stdout",
     "output_type": "stream",
     "text": [
      "Sent1 vs Sent2: 0.8630\n",
      "Sent1 vs Sent3: 0.6609\n"
     ]
    }
   ],
   "source": [
    "# These use average of word vectors, so they're fast but less context-sensitive.\n",
    "sent1 = nlp(\"A cat sat on the mat.\")\n",
    "sent2 = nlp(\"A dog lay on the rug.\")\n",
    "sent3 = nlp(\"The stock market crashed yesterday.\")\n",
    "\n",
    "print(f\"Sent1 vs Sent2: {sent1.similarity(sent2):.4f}\")\n",
    "print(f\"Sent1 vs Sent3: {sent1.similarity(sent3):.4f}\")\n"
   ]
  },
  {
   "cell_type": "markdown",
   "id": "055fa399-cd6b-46c9-b14e-d390a43a5db4",
   "metadata": {},
   "source": [
    "* In spaCy, the sentence embedding (or Doc-level .vector) is computed as **the average of the word embeddings** (excluding stopwords, punctuations, and sometimes out-of-vocabulary words depending on the model)"
   ]
  },
  {
   "cell_type": "markdown",
   "id": "4ea5121f-1fb2-41c0-9a3d-6d3aa25ed4fd",
   "metadata": {},
   "source": [
    "## Visualize Word Embeddings with PCA"
   ]
  },
  {
   "cell_type": "code",
   "execution_count": null,
   "id": "557279a3-4df4-44bd-ab83-9d0aa424ae49",
   "metadata": {},
   "outputs": [],
   "source": [
    "#!pip3 install matplotlib scikit-learn"
   ]
  },
  {
   "cell_type": "code",
   "execution_count": 8,
   "id": "6a5f1b84-2aa9-42de-b036-f0564111da4e",
   "metadata": {},
   "outputs": [
    {
     "data": {
      "image/png": "[encoded data removed]",
      "text/plain": [
       "<Figure size 800x600 with 1 Axes>"
      ]
     },
     "metadata": {},
     "output_type": "display_data"
    }
   ],
   "source": [
    "import matplotlib.pyplot as plt\n",
    "from sklearn.decomposition import PCA\n",
    "\n",
    "words = [\"king\", \"queen\", \"man\", \"woman\", \"apple\", \"orange\"]\n",
    "vectors = [nlp(word).vector for word in words]\n",
    "\n",
    "# Reduce dimensions\n",
    "pca = PCA(n_components=2)\n",
    "reduced = pca.fit_transform(vectors)\n",
    "\n",
    "# Plot\n",
    "plt.figure(figsize=(8, 6))\n",
    "for i, word in enumerate(words):\n",
    "    x, y = reduced[i]\n",
    "    plt.scatter(x, y)\n",
    "    plt.text(x + 0.01, y + 0.01, word)\n",
    "plt.title(\"Word Embeddings (spaCy + PCA)\")\n",
    "plt.show()\n"
   ]
  }
 ],
 "metadata": {
  "kernelspec": {
   "display_name": "Python 3",
   "language": "python",
   "name": "python3"
  },
  "language_info": {
   "codemirror_mode": {
    "name": "ipython",
    "version": 3
   },
   "file_extension": ".py",
   "mimetype": "text/x-python",
   "name": "python",
   "nbconvert_exporter": "python",
   "pygments_lexer": "ipython3",
   "version": "3.12.7"
  }
 },
 "nbformat": 4,
 "nbformat_minor": 5
}
